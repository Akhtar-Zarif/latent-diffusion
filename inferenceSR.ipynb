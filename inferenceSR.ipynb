{
 "cells": [
  {
   "cell_type": "code",
   "execution_count": 1,
   "metadata": {},
   "outputs": [],
   "source": [
    "# !git clone https://github.com/CompVis/latent-diffusion.git\n",
    "# !git clone https://github.com/CompVis/taming-transformers\n",
    "# !pip install -e ./taming-transformers\n",
    "# !pip install ipywidgets omegaconf>=2.0.0 pytorch-lightning>=1.0.8 torch-fidelity einops\n",
    "\n",
    "# import sys\n",
    "# sys.path.append(\".\")\n",
    "# sys.path.append('./taming-transformers')\n",
    "# from taming.models import vqgan # checking correct import from taming"
   ]
  },
  {
   "cell_type": "code",
   "execution_count": 10,
   "metadata": {},
   "outputs": [
    {
     "data": {
      "application/vnd.jupyter.widget-view+json": {
       "model_id": "f10f26211f3147e682af46f7a52f2b4e",
       "version_major": 2,
       "version_minor": 0
      },
      "text/plain": [
       "Select(description='Task:', options=('superresolution',), value='superresolution')"
      ]
     },
     "metadata": {},
     "output_type": "display_data"
    }
   ],
   "source": [
    "# %cd latent-diffusion\n",
    "import ipywidgets as widgets\n",
    "from IPython.display import display\n",
    "\n",
    "mode = widgets.Select(options=['superresolution'],\n",
    "    value='superresolution', description='Task:')\n",
    "display(mode)"
   ]
  },
  {
   "cell_type": "code",
   "execution_count": 11,
   "metadata": {},
   "outputs": [
    {
     "name": "stdout",
     "output_type": "stream",
     "text": [
      "1.13.1+cu117\n"
     ]
    }
   ],
   "source": [
    "import torch\n",
    "print(torch.__version__)"
   ]
  },
  {
   "cell_type": "code",
   "execution_count": 12,
   "metadata": {},
   "outputs": [
    {
     "data": {
      "application/vnd.jupyter.widget-view+json": {
       "model_id": "62a975522ac9417983a5399574614baa",
       "version_major": 2,
       "version_minor": 0
      },
      "text/plain": [
       "Select(description='SR resolutions:', index=1, options=('64-256', '32-64'), value='32-64')"
      ]
     },
     "metadata": {},
     "output_type": "display_data"
    }
   ],
   "source": [
    "resolution = widgets.Select(options=['64-256', '32-64'],\n",
    "    value='32-64', description='SR resolutions:')\n",
    "display(resolution)"
   ]
  },
  {
   "cell_type": "code",
   "execution_count": 13,
   "metadata": {},
   "outputs": [
    {
     "name": "stdout",
     "output_type": "stream",
     "text": [
      "64-256 selected\n"
     ]
    }
   ],
   "source": [
    "# Define variables\n",
    "\n",
    "## LDM 64->256\n",
    "if resolution.value == \"64-256\":\n",
    "    print(\"64-256 selected\")\n",
    "    path_conf = \".\\\\models\\\\ldm\\\\ffhq256\\\\ffhq256_sr.yaml\"\n",
    "    path_ckpt = \".\\\\trained_models\\\\epoch=000052.ckpt\"\n",
    "    up_f = 4\n",
    "## LDM 32->64\n",
    "elif resolution.value == \"32-64\":\n",
    "    print(\"32-64 selected\")\n",
    "    path_conf = \".\\\\models\\\\ldm\\\\ffhq256\\\\ffhq32-64_sr.yaml\"\n",
    "    path_ckpt = \".\\\\trained_models\\\\epoch=000014.ckpt\"\n",
    "    up_f = 2\n",
    "# path_conf = \".\\\\models\\\\ldm\\\\ffhq256\\\\ffhq256_sr.yaml\"\n",
    "# path_ckpt = \".\\\\trained_models\\\\epoch=000052.ckpt\"\n",
    "\n",
    "# path_conf = \".\\\\models\\\\ldm\\\\ffhq256\\\\ffhq32-64_sr.yaml\"\n",
    "# path_ckpt = \".\\\\trained_models\\\\epoch=000014.ckpt\"\n",
    "# uploaded_img = \"\" # 给一张照片"
   ]
  },
  {
   "cell_type": "code",
   "execution_count": 14,
   "metadata": {},
   "outputs": [],
   "source": [
    "import os\n",
    "os.path.isfile(path_ckpt)\n",
    "torch.cuda.is_available()\n",
    "torch.cuda.empty_cache()\n"
   ]
  },
  {
   "cell_type": "code",
   "execution_count": 15,
   "metadata": {},
   "outputs": [
    {
     "name": "stdout",
     "output_type": "stream",
     "text": [
      "Loading model from .\\trained_models\\epoch=000052.ckpt\n",
      "LatentDiffusion: Running in eps-prediction mode\n",
      "DiffusionWrapper has 113.62 M params.\n",
      "Keeping EMAs of 308.\n",
      "making attention of type 'vanilla' with 512 in_channels\n",
      "Working with z of shape (1, 3, 64, 64) = 12288 dimensions.\n",
      "making attention of type 'vanilla' with 512 in_channels\n",
      "Restored from ./models/first_stage_models/vq-f4/model.ckpt with 0 missing and 55 unexpected keys\n"
     ]
    }
   ],
   "source": [
    "from notebook_helpers import get_local_model\n",
    "model = get_local_model(path_conf, path_ckpt) # load model"
   ]
  },
  {
   "cell_type": "code",
   "execution_count": 7,
   "metadata": {},
   "outputs": [],
   "source": [
    "# from notebook_helpers import get_custom_cond\n",
    "\n",
    "# get_custom_cond(mode.value, uploaded_img=uploaded_img)"
   ]
  },
  {
   "cell_type": "code",
   "execution_count": 17,
   "metadata": {},
   "outputs": [
    {
     "data": {
      "application/vnd.jupyter.widget-view+json": {
       "model_id": "cd68a2462bd0435485d136e252e50c77",
       "version_major": 2,
       "version_minor": 0
      },
      "text/plain": [
       "RadioButtons(description='Select conditioning:', options=('face256_1.png', 'face32_1.png', 'face32_2.png', 'fa…"
      ]
     },
     "metadata": {},
     "output_type": "display_data"
    }
   ],
   "source": [
    "from notebook_helpers import get_cond_options, get_cond\n",
    "dir, options = get_cond_options(mode.value)\n",
    "cond_choice = widgets.RadioButtons(\n",
    "        options=options,\n",
    "        description='Select conditioning:',\n",
    "        disabled=False\n",
    "    )\n",
    "display(cond_choice)"
   ]
  },
  {
   "cell_type": "code",
   "execution_count": 19,
   "metadata": {},
   "outputs": [
    {
     "data": {
      "image/png": "[encoded data removed]",
      "text/plain": [
       "<IPython.core.display.Image object>"
      ]
     },
     "metadata": {},
     "output_type": "display_data"
    },
    {
     "name": "stdout",
     "output_type": "stream",
     "text": [
      "heyeheyhey\n",
      "original c shape: torch.Size([1, 3, 64, 64])\n",
      "heyeheyhey\n",
      "torch.Size([1, 64, 64, 3]) torch.Size([1, 256, 256, 3])\n",
      "reducing Kernel\n",
      "Plotting: Switched to EMA weights\n",
      "Sampling with eta = 1.0; steps: 200\n",
      "Data shape for DDIM sampling is (1, 3, 64, 64), eta 1.0\n",
      "Running DDIM Sampling with 200 timesteps\n"
     ]
    },
    {
     "name": "stderr",
     "output_type": "stream",
     "text": [
      "DDIM Sampler:   0%|          | 0/200 [00:00<?, ?it/s]"
     ]
    },
    {
     "name": "stdout",
     "output_type": "stream",
     "text": [
      "Plotting: Restored training weights\n"
     ]
    },
    {
     "name": "stderr",
     "output_type": "stream",
     "text": [
      "\n"
     ]
    },
    {
     "ename": "RuntimeError",
     "evalue": "Expected 2D or 3D (batch mode) tensor for input with possibly 0 batch size and non-zero dimensions for input, but got: [1, 16384, 0]",
     "output_type": "error",
     "traceback": [
      "\u001b[1;31m---------------------------------------------------------------------------\u001b[0m",
      "\u001b[1;31mRuntimeError\u001b[0m                              Traceback (most recent call last)",
      "Cell \u001b[1;32mIn[19], line 5\u001b[0m\n\u001b[0;32m      3\u001b[0m custom_steps \u001b[39m=\u001b[39m \u001b[39m200\u001b[39m\n\u001b[0;32m      4\u001b[0m cond_choice_path \u001b[39m=\u001b[39m os\u001b[39m.\u001b[39mpath\u001b[39m.\u001b[39mjoin(\u001b[39mdir\u001b[39m, cond_choice\u001b[39m.\u001b[39mvalue)\n\u001b[1;32m----> 5\u001b[0m logs \u001b[39m=\u001b[39m run(model[\u001b[39m\"\u001b[39;49m\u001b[39mmodel\u001b[39;49m\u001b[39m\"\u001b[39;49m], cond_choice_path, mode\u001b[39m.\u001b[39;49mvalue, custom_steps, up_f)\n",
      "File \u001b[1;32mc:\\Users\\cj020\\Desktop\\Diffusion Research\\latent-diffusion\\notebook_helpers.py:188\u001b[0m, in \u001b[0;36mrun\u001b[1;34m(model, selected_path, task, custom_steps, up_f, resize_enabled, classifier_ckpt, global_step)\u001b[0m\n\u001b[0;32m    185\u001b[0m         x_T \u001b[39m=\u001b[39m torch\u001b[39m.\u001b[39mrandn(\u001b[39m1\u001b[39m, custom_shape[\u001b[39m1\u001b[39m], custom_shape[\u001b[39m2\u001b[39m], custom_shape[\u001b[39m3\u001b[39m])\u001b[39m.\u001b[39mto(model\u001b[39m.\u001b[39mdevice)\n\u001b[0;32m    186\u001b[0m         x_T \u001b[39m=\u001b[39m repeat(x_T, \u001b[39m'\u001b[39m\u001b[39m1 c h w -> b c h w\u001b[39m\u001b[39m'\u001b[39m, b\u001b[39m=\u001b[39mcustom_shape[\u001b[39m0\u001b[39m])\n\u001b[1;32m--> 188\u001b[0m     logs \u001b[39m=\u001b[39m make_convolutional_sample(example, model,\n\u001b[0;32m    189\u001b[0m                                      mode\u001b[39m=\u001b[39;49mmode, custom_steps\u001b[39m=\u001b[39;49mcustom_steps,\n\u001b[0;32m    190\u001b[0m                                      eta\u001b[39m=\u001b[39;49meta, swap_mode\u001b[39m=\u001b[39;49m\u001b[39mFalse\u001b[39;49;00m , masked\u001b[39m=\u001b[39;49mmasked,\n\u001b[0;32m    191\u001b[0m                                      invert_mask\u001b[39m=\u001b[39;49minvert_mask, quantize_x0\u001b[39m=\u001b[39;49m\u001b[39mFalse\u001b[39;49;00m,\n\u001b[0;32m    192\u001b[0m                                      custom_schedule\u001b[39m=\u001b[39;49m\u001b[39mNone\u001b[39;49;00m, decode_interval\u001b[39m=\u001b[39;49m\u001b[39m10\u001b[39;49m,\n\u001b[0;32m    193\u001b[0m                                      resize_enabled\u001b[39m=\u001b[39;49mresize_enabled, custom_shape\u001b[39m=\u001b[39;49mcustom_shape,\n\u001b[0;32m    194\u001b[0m                                      temperature\u001b[39m=\u001b[39;49mtemperature, noise_dropout\u001b[39m=\u001b[39;49m\u001b[39m0.\u001b[39;49m,\n\u001b[0;32m    195\u001b[0m                                      corrector\u001b[39m=\u001b[39;49mguider, corrector_kwargs\u001b[39m=\u001b[39;49mckwargs, x_T\u001b[39m=\u001b[39;49mx_T, save_intermediate_vid\u001b[39m=\u001b[39;49msave_intermediate_vid,\n\u001b[0;32m    196\u001b[0m                                      make_progrow\u001b[39m=\u001b[39;49mmake_progrow,ddim_use_x0_pred\u001b[39m=\u001b[39;49mddim_use_x0_pred\n\u001b[0;32m    197\u001b[0m                                      )\n\u001b[0;32m    198\u001b[0m \u001b[39mreturn\u001b[39;00m logs\n",
      "File \u001b[1;32mc:\\Users\\cj020\\anaconda3\\envs\\ldm\\lib\\site-packages\\torch\\autograd\\grad_mode.py:27\u001b[0m, in \u001b[0;36m_DecoratorContextManager.__call__.<locals>.decorate_context\u001b[1;34m(*args, **kwargs)\u001b[0m\n\u001b[0;32m     24\u001b[0m \u001b[39m@functools\u001b[39m\u001b[39m.\u001b[39mwraps(func)\n\u001b[0;32m     25\u001b[0m \u001b[39mdef\u001b[39;00m \u001b[39mdecorate_context\u001b[39m(\u001b[39m*\u001b[39margs, \u001b[39m*\u001b[39m\u001b[39m*\u001b[39mkwargs):\n\u001b[0;32m     26\u001b[0m     \u001b[39mwith\u001b[39;00m \u001b[39mself\u001b[39m\u001b[39m.\u001b[39mclone():\n\u001b[1;32m---> 27\u001b[0m         \u001b[39mreturn\u001b[39;00m func(\u001b[39m*\u001b[39;49margs, \u001b[39m*\u001b[39;49m\u001b[39m*\u001b[39;49mkwargs)\n",
      "File \u001b[1;32mc:\\Users\\cj020\\Desktop\\Diffusion Research\\latent-diffusion\\notebook_helpers.py:261\u001b[0m, in \u001b[0;36mmake_convolutional_sample\u001b[1;34m(batch, model, mode, custom_steps, eta, swap_mode, masked, invert_mask, quantize_x0, custom_schedule, decode_interval, resize_enabled, custom_shape, temperature, noise_dropout, corrector, corrector_kwargs, x_T, save_intermediate_vid, make_progrow, ddim_use_x0_pred)\u001b[0m\n\u001b[0;32m    258\u001b[0m t0 \u001b[39m=\u001b[39m time\u001b[39m.\u001b[39mtime()\n\u001b[0;32m    259\u001b[0m img_cb \u001b[39m=\u001b[39m \u001b[39mNone\u001b[39;00m\n\u001b[1;32m--> 261\u001b[0m sample, intermediates \u001b[39m=\u001b[39m convsample_ddim(model, c, steps\u001b[39m=\u001b[39;49mcustom_steps, shape\u001b[39m=\u001b[39;49mz\u001b[39m.\u001b[39;49mshape,\n\u001b[0;32m    262\u001b[0m                                         eta\u001b[39m=\u001b[39;49meta,\n\u001b[0;32m    263\u001b[0m                                         quantize_x0\u001b[39m=\u001b[39;49mquantize_x0, img_callback\u001b[39m=\u001b[39;49mimg_cb, mask\u001b[39m=\u001b[39;49m\u001b[39mNone\u001b[39;49;00m, x0\u001b[39m=\u001b[39;49mz0,\n\u001b[0;32m    264\u001b[0m                                         temperature\u001b[39m=\u001b[39;49mtemperature, noise_dropout\u001b[39m=\u001b[39;49mnoise_dropout,\n\u001b[0;32m    265\u001b[0m                                         score_corrector\u001b[39m=\u001b[39;49mcorrector, corrector_kwargs\u001b[39m=\u001b[39;49mcorrector_kwargs,\n\u001b[0;32m    266\u001b[0m                                         x_T\u001b[39m=\u001b[39;49mx_T, log_every_t\u001b[39m=\u001b[39;49mlog_every_t)\n\u001b[0;32m    267\u001b[0m t1 \u001b[39m=\u001b[39m time\u001b[39m.\u001b[39mtime()\n\u001b[0;32m    269\u001b[0m \u001b[39mif\u001b[39;00m ddim_use_x0_pred:\n",
      "File \u001b[1;32mc:\\Users\\cj020\\anaconda3\\envs\\ldm\\lib\\site-packages\\torch\\autograd\\grad_mode.py:27\u001b[0m, in \u001b[0;36m_DecoratorContextManager.__call__.<locals>.decorate_context\u001b[1;34m(*args, **kwargs)\u001b[0m\n\u001b[0;32m     24\u001b[0m \u001b[39m@functools\u001b[39m\u001b[39m.\u001b[39mwraps(func)\n\u001b[0;32m     25\u001b[0m \u001b[39mdef\u001b[39;00m \u001b[39mdecorate_context\u001b[39m(\u001b[39m*\u001b[39margs, \u001b[39m*\u001b[39m\u001b[39m*\u001b[39mkwargs):\n\u001b[0;32m     26\u001b[0m     \u001b[39mwith\u001b[39;00m \u001b[39mself\u001b[39m\u001b[39m.\u001b[39mclone():\n\u001b[1;32m---> 27\u001b[0m         \u001b[39mreturn\u001b[39;00m func(\u001b[39m*\u001b[39;49margs, \u001b[39m*\u001b[39;49m\u001b[39m*\u001b[39;49mkwargs)\n",
      "File \u001b[1;32mc:\\Users\\cj020\\Desktop\\Diffusion Research\\latent-diffusion\\notebook_helpers.py:212\u001b[0m, in \u001b[0;36mconvsample_ddim\u001b[1;34m(model, cond, steps, shape, eta, callback, normals_sequence, mask, x0, quantize_x0, img_callback, temperature, noise_dropout, score_corrector, corrector_kwargs, x_T, log_every_t)\u001b[0m\n\u001b[0;32m    210\u001b[0m shape \u001b[39m=\u001b[39m shape[\u001b[39m1\u001b[39m:]  \u001b[39m# cut batch dim\u001b[39;00m\n\u001b[0;32m    211\u001b[0m \u001b[39mprint\u001b[39m(\u001b[39mf\u001b[39m\u001b[39m\"\u001b[39m\u001b[39mSampling with eta = \u001b[39m\u001b[39m{\u001b[39;00meta\u001b[39m}\u001b[39;00m\u001b[39m; steps: \u001b[39m\u001b[39m{\u001b[39;00msteps\u001b[39m}\u001b[39;00m\u001b[39m\"\u001b[39m)\n\u001b[1;32m--> 212\u001b[0m samples, intermediates \u001b[39m=\u001b[39m ddim\u001b[39m.\u001b[39;49msample(steps, batch_size\u001b[39m=\u001b[39;49mbs, shape\u001b[39m=\u001b[39;49mshape, conditioning\u001b[39m=\u001b[39;49mcond, callback\u001b[39m=\u001b[39;49mcallback,\n\u001b[0;32m    213\u001b[0m                                      normals_sequence\u001b[39m=\u001b[39;49mnormals_sequence, quantize_x0\u001b[39m=\u001b[39;49mquantize_x0, eta\u001b[39m=\u001b[39;49meta,\n\u001b[0;32m    214\u001b[0m                                      mask\u001b[39m=\u001b[39;49mmask, x0\u001b[39m=\u001b[39;49mx0, temperature\u001b[39m=\u001b[39;49mtemperature, verbose\u001b[39m=\u001b[39;49m\u001b[39mFalse\u001b[39;49;00m,\n\u001b[0;32m    215\u001b[0m                                      score_corrector\u001b[39m=\u001b[39;49mscore_corrector,\n\u001b[0;32m    216\u001b[0m                                      corrector_kwargs\u001b[39m=\u001b[39;49mcorrector_kwargs, x_T\u001b[39m=\u001b[39;49mx_T)\n\u001b[0;32m    218\u001b[0m \u001b[39mreturn\u001b[39;00m samples, intermediates\n",
      "File \u001b[1;32mc:\\Users\\cj020\\anaconda3\\envs\\ldm\\lib\\site-packages\\torch\\autograd\\grad_mode.py:27\u001b[0m, in \u001b[0;36m_DecoratorContextManager.__call__.<locals>.decorate_context\u001b[1;34m(*args, **kwargs)\u001b[0m\n\u001b[0;32m     24\u001b[0m \u001b[39m@functools\u001b[39m\u001b[39m.\u001b[39mwraps(func)\n\u001b[0;32m     25\u001b[0m \u001b[39mdef\u001b[39;00m \u001b[39mdecorate_context\u001b[39m(\u001b[39m*\u001b[39margs, \u001b[39m*\u001b[39m\u001b[39m*\u001b[39mkwargs):\n\u001b[0;32m     26\u001b[0m     \u001b[39mwith\u001b[39;00m \u001b[39mself\u001b[39m\u001b[39m.\u001b[39mclone():\n\u001b[1;32m---> 27\u001b[0m         \u001b[39mreturn\u001b[39;00m func(\u001b[39m*\u001b[39;49margs, \u001b[39m*\u001b[39;49m\u001b[39m*\u001b[39;49mkwargs)\n",
      "File \u001b[1;32mc:\\Users\\cj020\\Desktop\\Diffusion Research\\latent-diffusion\\ldm\\models\\diffusion\\ddim.py:95\u001b[0m, in \u001b[0;36mDDIMSampler.sample\u001b[1;34m(self, S, batch_size, shape, conditioning, callback, normals_sequence, img_callback, quantize_x0, eta, mask, x0, temperature, noise_dropout, score_corrector, corrector_kwargs, verbose, x_T, log_every_t, unconditional_guidance_scale, unconditional_conditioning, **kwargs)\u001b[0m\n\u001b[0;32m     92\u001b[0m size \u001b[39m=\u001b[39m (batch_size, C, H, W)\n\u001b[0;32m     93\u001b[0m \u001b[39mprint\u001b[39m(\u001b[39mf\u001b[39m\u001b[39m'\u001b[39m\u001b[39mData shape for DDIM sampling is \u001b[39m\u001b[39m{\u001b[39;00msize\u001b[39m}\u001b[39;00m\u001b[39m, eta \u001b[39m\u001b[39m{\u001b[39;00meta\u001b[39m}\u001b[39;00m\u001b[39m'\u001b[39m)\n\u001b[1;32m---> 95\u001b[0m samples, intermediates \u001b[39m=\u001b[39m \u001b[39mself\u001b[39;49m\u001b[39m.\u001b[39;49mddim_sampling(conditioning, size,\n\u001b[0;32m     96\u001b[0m                                             callback\u001b[39m=\u001b[39;49mcallback,\n\u001b[0;32m     97\u001b[0m                                             img_callback\u001b[39m=\u001b[39;49mimg_callback,\n\u001b[0;32m     98\u001b[0m                                             quantize_denoised\u001b[39m=\u001b[39;49mquantize_x0,\n\u001b[0;32m     99\u001b[0m                                             mask\u001b[39m=\u001b[39;49mmask, x0\u001b[39m=\u001b[39;49mx0,\n\u001b[0;32m    100\u001b[0m                                             ddim_use_original_steps\u001b[39m=\u001b[39;49m\u001b[39mFalse\u001b[39;49;00m,\n\u001b[0;32m    101\u001b[0m                                             noise_dropout\u001b[39m=\u001b[39;49mnoise_dropout,\n\u001b[0;32m    102\u001b[0m                                             temperature\u001b[39m=\u001b[39;49mtemperature,\n\u001b[0;32m    103\u001b[0m                                             score_corrector\u001b[39m=\u001b[39;49mscore_corrector,\n\u001b[0;32m    104\u001b[0m                                             corrector_kwargs\u001b[39m=\u001b[39;49mcorrector_kwargs,\n\u001b[0;32m    105\u001b[0m                                             x_T\u001b[39m=\u001b[39;49mx_T,\n\u001b[0;32m    106\u001b[0m                                             log_every_t\u001b[39m=\u001b[39;49mlog_every_t,\n\u001b[0;32m    107\u001b[0m                                             unconditional_guidance_scale\u001b[39m=\u001b[39;49munconditional_guidance_scale,\n\u001b[0;32m    108\u001b[0m                                             unconditional_conditioning\u001b[39m=\u001b[39;49munconditional_conditioning,\n\u001b[0;32m    109\u001b[0m                                             )\n\u001b[0;32m    110\u001b[0m \u001b[39mreturn\u001b[39;00m samples, intermediates\n",
      "File \u001b[1;32mc:\\Users\\cj020\\anaconda3\\envs\\ldm\\lib\\site-packages\\torch\\autograd\\grad_mode.py:27\u001b[0m, in \u001b[0;36m_DecoratorContextManager.__call__.<locals>.decorate_context\u001b[1;34m(*args, **kwargs)\u001b[0m\n\u001b[0;32m     24\u001b[0m \u001b[39m@functools\u001b[39m\u001b[39m.\u001b[39mwraps(func)\n\u001b[0;32m     25\u001b[0m \u001b[39mdef\u001b[39;00m \u001b[39mdecorate_context\u001b[39m(\u001b[39m*\u001b[39margs, \u001b[39m*\u001b[39m\u001b[39m*\u001b[39mkwargs):\n\u001b[0;32m     26\u001b[0m     \u001b[39mwith\u001b[39;00m \u001b[39mself\u001b[39m\u001b[39m.\u001b[39mclone():\n\u001b[1;32m---> 27\u001b[0m         \u001b[39mreturn\u001b[39;00m func(\u001b[39m*\u001b[39;49margs, \u001b[39m*\u001b[39;49m\u001b[39m*\u001b[39;49mkwargs)\n",
      "File \u001b[1;32mc:\\Users\\cj020\\Desktop\\Diffusion Research\\latent-diffusion\\ldm\\models\\diffusion\\ddim.py:148\u001b[0m, in \u001b[0;36mDDIMSampler.ddim_sampling\u001b[1;34m(self, cond, shape, x_T, ddim_use_original_steps, callback, timesteps, quantize_denoised, mask, x0, img_callback, log_every_t, temperature, noise_dropout, score_corrector, corrector_kwargs, unconditional_guidance_scale, unconditional_conditioning)\u001b[0m\n\u001b[0;32m    145\u001b[0m     img_orig \u001b[39m=\u001b[39m \u001b[39mself\u001b[39m\u001b[39m.\u001b[39mmodel\u001b[39m.\u001b[39mq_sample(x0, ts)  \u001b[39m# TODO: deterministic forward pass?\u001b[39;00m\n\u001b[0;32m    146\u001b[0m     img \u001b[39m=\u001b[39m img_orig \u001b[39m*\u001b[39m mask \u001b[39m+\u001b[39m (\u001b[39m1.\u001b[39m \u001b[39m-\u001b[39m mask) \u001b[39m*\u001b[39m img\n\u001b[1;32m--> 148\u001b[0m outs \u001b[39m=\u001b[39m \u001b[39mself\u001b[39;49m\u001b[39m.\u001b[39;49mp_sample_ddim(img, cond, ts, index\u001b[39m=\u001b[39;49mindex, use_original_steps\u001b[39m=\u001b[39;49mddim_use_original_steps,\n\u001b[0;32m    149\u001b[0m                           quantize_denoised\u001b[39m=\u001b[39;49mquantize_denoised, temperature\u001b[39m=\u001b[39;49mtemperature,\n\u001b[0;32m    150\u001b[0m                           noise_dropout\u001b[39m=\u001b[39;49mnoise_dropout, score_corrector\u001b[39m=\u001b[39;49mscore_corrector,\n\u001b[0;32m    151\u001b[0m                           corrector_kwargs\u001b[39m=\u001b[39;49mcorrector_kwargs,\n\u001b[0;32m    152\u001b[0m                           unconditional_guidance_scale\u001b[39m=\u001b[39;49munconditional_guidance_scale,\n\u001b[0;32m    153\u001b[0m                           unconditional_conditioning\u001b[39m=\u001b[39;49munconditional_conditioning)\n\u001b[0;32m    154\u001b[0m img, pred_x0 \u001b[39m=\u001b[39m outs\n\u001b[0;32m    155\u001b[0m \u001b[39mif\u001b[39;00m callback: callback(i)\n",
      "File \u001b[1;32mc:\\Users\\cj020\\anaconda3\\envs\\ldm\\lib\\site-packages\\torch\\autograd\\grad_mode.py:27\u001b[0m, in \u001b[0;36m_DecoratorContextManager.__call__.<locals>.decorate_context\u001b[1;34m(*args, **kwargs)\u001b[0m\n\u001b[0;32m     24\u001b[0m \u001b[39m@functools\u001b[39m\u001b[39m.\u001b[39mwraps(func)\n\u001b[0;32m     25\u001b[0m \u001b[39mdef\u001b[39;00m \u001b[39mdecorate_context\u001b[39m(\u001b[39m*\u001b[39margs, \u001b[39m*\u001b[39m\u001b[39m*\u001b[39mkwargs):\n\u001b[0;32m     26\u001b[0m     \u001b[39mwith\u001b[39;00m \u001b[39mself\u001b[39m\u001b[39m.\u001b[39mclone():\n\u001b[1;32m---> 27\u001b[0m         \u001b[39mreturn\u001b[39;00m func(\u001b[39m*\u001b[39;49margs, \u001b[39m*\u001b[39;49m\u001b[39m*\u001b[39;49mkwargs)\n",
      "File \u001b[1;32mc:\\Users\\cj020\\Desktop\\Diffusion Research\\latent-diffusion\\ldm\\models\\diffusion\\ddim.py:171\u001b[0m, in \u001b[0;36mDDIMSampler.p_sample_ddim\u001b[1;34m(self, x, c, t, index, repeat_noise, use_original_steps, quantize_denoised, temperature, noise_dropout, score_corrector, corrector_kwargs, unconditional_guidance_scale, unconditional_conditioning)\u001b[0m\n\u001b[0;32m    168\u001b[0m b, \u001b[39m*\u001b[39m_, device \u001b[39m=\u001b[39m \u001b[39m*\u001b[39mx\u001b[39m.\u001b[39mshape, x\u001b[39m.\u001b[39mdevice\n\u001b[0;32m    170\u001b[0m \u001b[39mif\u001b[39;00m unconditional_conditioning \u001b[39mis\u001b[39;00m \u001b[39mNone\u001b[39;00m \u001b[39mor\u001b[39;00m unconditional_guidance_scale \u001b[39m==\u001b[39m \u001b[39m1.\u001b[39m:\n\u001b[1;32m--> 171\u001b[0m     e_t \u001b[39m=\u001b[39m \u001b[39mself\u001b[39;49m\u001b[39m.\u001b[39;49mmodel\u001b[39m.\u001b[39;49mapply_model(x, t, c)\n\u001b[0;32m    172\u001b[0m \u001b[39melse\u001b[39;00m:\n\u001b[0;32m    173\u001b[0m     x_in \u001b[39m=\u001b[39m torch\u001b[39m.\u001b[39mcat([x] \u001b[39m*\u001b[39m \u001b[39m2\u001b[39m)\n",
      "File \u001b[1;32mc:\\Users\\cj020\\Desktop\\Diffusion Research\\latent-diffusion\\ldm\\models\\diffusion\\ddpm.py:937\u001b[0m, in \u001b[0;36mLatentDiffusion.apply_model\u001b[1;34m(self, x_noisy, t, cond, return_ids)\u001b[0m\n\u001b[0;32m    933\u001b[0m stride \u001b[39m=\u001b[39m \u001b[39mself\u001b[39m\u001b[39m.\u001b[39msplit_input_params[\u001b[39m\"\u001b[39m\u001b[39mstride\u001b[39m\u001b[39m\"\u001b[39m]  \u001b[39m# eg. (64, 64)\u001b[39;00m\n\u001b[0;32m    935\u001b[0m h, w \u001b[39m=\u001b[39m x_noisy\u001b[39m.\u001b[39mshape[\u001b[39m-\u001b[39m\u001b[39m2\u001b[39m:]\n\u001b[1;32m--> 937\u001b[0m fold, unfold, normalization, weighting \u001b[39m=\u001b[39m \u001b[39mself\u001b[39;49m\u001b[39m.\u001b[39;49mget_fold_unfold(x_noisy, ks, stride)\n\u001b[0;32m    939\u001b[0m z \u001b[39m=\u001b[39m unfold(x_noisy)  \u001b[39m# (bn, nc * prod(**ks), L)\u001b[39;00m\n\u001b[0;32m    940\u001b[0m \u001b[39m# Reshape to img shape\u001b[39;00m\n",
      "File \u001b[1;32mc:\\Users\\cj020\\Desktop\\Diffusion Research\\latent-diffusion\\ldm\\models\\diffusion\\ddpm.py:621\u001b[0m, in \u001b[0;36mLatentDiffusion.get_fold_unfold\u001b[1;34m(self, x, kernel_size, stride, uf, df)\u001b[0m\n\u001b[0;32m    618\u001b[0m     fold \u001b[39m=\u001b[39m torch\u001b[39m.\u001b[39mnn\u001b[39m.\u001b[39mFold(output_size\u001b[39m=\u001b[39mx\u001b[39m.\u001b[39mshape[\u001b[39m2\u001b[39m:], \u001b[39m*\u001b[39m\u001b[39m*\u001b[39mfold_params)\n\u001b[0;32m    620\u001b[0m     weighting \u001b[39m=\u001b[39m \u001b[39mself\u001b[39m\u001b[39m.\u001b[39mget_weighting(kernel_size[\u001b[39m0\u001b[39m], kernel_size[\u001b[39m1\u001b[39m], Ly, Lx, x\u001b[39m.\u001b[39mdevice)\u001b[39m.\u001b[39mto(x\u001b[39m.\u001b[39mdtype)\n\u001b[1;32m--> 621\u001b[0m     normalization \u001b[39m=\u001b[39m fold(weighting)\u001b[39m.\u001b[39mview(\u001b[39m1\u001b[39m, \u001b[39m1\u001b[39m, h, w)  \u001b[39m# normalizes the overlap\u001b[39;00m\n\u001b[0;32m    622\u001b[0m     weighting \u001b[39m=\u001b[39m weighting\u001b[39m.\u001b[39mview((\u001b[39m1\u001b[39m, \u001b[39m1\u001b[39m, kernel_size[\u001b[39m0\u001b[39m], kernel_size[\u001b[39m1\u001b[39m], Ly \u001b[39m*\u001b[39m Lx))\n\u001b[0;32m    624\u001b[0m \u001b[39melif\u001b[39;00m uf \u001b[39m>\u001b[39m \u001b[39m1\u001b[39m \u001b[39mand\u001b[39;00m df \u001b[39m==\u001b[39m \u001b[39m1\u001b[39m:\n",
      "File \u001b[1;32mc:\\Users\\cj020\\anaconda3\\envs\\ldm\\lib\\site-packages\\torch\\nn\\modules\\module.py:1194\u001b[0m, in \u001b[0;36mModule._call_impl\u001b[1;34m(self, *input, **kwargs)\u001b[0m\n\u001b[0;32m   1190\u001b[0m \u001b[39m# If we don't have any hooks, we want to skip the rest of the logic in\u001b[39;00m\n\u001b[0;32m   1191\u001b[0m \u001b[39m# this function, and just call forward.\u001b[39;00m\n\u001b[0;32m   1192\u001b[0m \u001b[39mif\u001b[39;00m \u001b[39mnot\u001b[39;00m (\u001b[39mself\u001b[39m\u001b[39m.\u001b[39m_backward_hooks \u001b[39mor\u001b[39;00m \u001b[39mself\u001b[39m\u001b[39m.\u001b[39m_forward_hooks \u001b[39mor\u001b[39;00m \u001b[39mself\u001b[39m\u001b[39m.\u001b[39m_forward_pre_hooks \u001b[39mor\u001b[39;00m _global_backward_hooks\n\u001b[0;32m   1193\u001b[0m         \u001b[39mor\u001b[39;00m _global_forward_hooks \u001b[39mor\u001b[39;00m _global_forward_pre_hooks):\n\u001b[1;32m-> 1194\u001b[0m     \u001b[39mreturn\u001b[39;00m forward_call(\u001b[39m*\u001b[39;49m\u001b[39minput\u001b[39;49m, \u001b[39m*\u001b[39;49m\u001b[39m*\u001b[39;49mkwargs)\n\u001b[0;32m   1195\u001b[0m \u001b[39m# Do not call functions when jit is used\u001b[39;00m\n\u001b[0;32m   1196\u001b[0m full_backward_hooks, non_full_backward_hooks \u001b[39m=\u001b[39m [], []\n",
      "File \u001b[1;32mc:\\Users\\cj020\\anaconda3\\envs\\ldm\\lib\\site-packages\\torch\\nn\\modules\\fold.py:146\u001b[0m, in \u001b[0;36mFold.forward\u001b[1;34m(self, input)\u001b[0m\n\u001b[0;32m    145\u001b[0m \u001b[39mdef\u001b[39;00m \u001b[39mforward\u001b[39m(\u001b[39mself\u001b[39m, \u001b[39minput\u001b[39m: Tensor) \u001b[39m-\u001b[39m\u001b[39m>\u001b[39m Tensor:\n\u001b[1;32m--> 146\u001b[0m     \u001b[39mreturn\u001b[39;00m F\u001b[39m.\u001b[39;49mfold(\u001b[39minput\u001b[39;49m, \u001b[39mself\u001b[39;49m\u001b[39m.\u001b[39;49moutput_size, \u001b[39mself\u001b[39;49m\u001b[39m.\u001b[39;49mkernel_size, \u001b[39mself\u001b[39;49m\u001b[39m.\u001b[39;49mdilation,\n\u001b[0;32m    147\u001b[0m                   \u001b[39mself\u001b[39;49m\u001b[39m.\u001b[39;49mpadding, \u001b[39mself\u001b[39;49m\u001b[39m.\u001b[39;49mstride)\n",
      "File \u001b[1;32mc:\\Users\\cj020\\anaconda3\\envs\\ldm\\lib\\site-packages\\torch\\nn\\functional.py:4691\u001b[0m, in \u001b[0;36mfold\u001b[1;34m(input, output_size, kernel_size, dilation, padding, stride)\u001b[0m\n\u001b[0;32m   4687\u001b[0m \u001b[39mif\u001b[39;00m has_torch_function_unary(\u001b[39minput\u001b[39m):\n\u001b[0;32m   4688\u001b[0m     \u001b[39mreturn\u001b[39;00m handle_torch_function(\n\u001b[0;32m   4689\u001b[0m         fold, (\u001b[39minput\u001b[39m,), \u001b[39minput\u001b[39m, output_size, kernel_size, dilation\u001b[39m=\u001b[39mdilation, padding\u001b[39m=\u001b[39mpadding, stride\u001b[39m=\u001b[39mstride\n\u001b[0;32m   4690\u001b[0m     )\n\u001b[1;32m-> 4691\u001b[0m \u001b[39mreturn\u001b[39;00m torch\u001b[39m.\u001b[39;49m_C\u001b[39m.\u001b[39;49m_nn\u001b[39m.\u001b[39;49mcol2im(\n\u001b[0;32m   4692\u001b[0m     \u001b[39minput\u001b[39;49m, _pair(output_size), _pair(kernel_size), _pair(dilation), _pair(padding), _pair(stride)\n\u001b[0;32m   4693\u001b[0m )\n",
      "\u001b[1;31mRuntimeError\u001b[0m: Expected 2D or 3D (batch mode) tensor for input with possibly 0 batch size and non-zero dimensions for input, but got: [1, 16384, 0]"
     ]
    }
   ],
   "source": [
    "from notebook_helpers import run\n",
    "import os\n",
    "custom_steps = 200\n",
    "cond_choice_path = os.path.join(dir, cond_choice.value)\n",
    "logs = run(model[\"model\"], cond_choice_path, mode.value, custom_steps, up_f)"
   ]
  },
  {
   "cell_type": "code",
   "execution_count": null,
   "metadata": {},
   "outputs": [
    {
     "name": "stdout",
     "output_type": "stream",
     "text": [
      "(1, 64, 64, 3)\n"
     ]
    },
    {
     "data": {
      "image/png": "[encoded data removed]",
      "text/plain": [
       "<PIL.Image.Image image mode=RGB size=64x64>"
      ]
     },
     "metadata": {},
     "output_type": "display_data"
    }
   ],
   "source": [
    "import torch\n",
    "import numpy as np\n",
    "import IPython.display as d\n",
    "from PIL import Image\n",
    "\n",
    "sample = logs[\"sample\"]\n",
    "sample = sample.detach().cpu()\n",
    "sample = torch.clamp(sample, -1., 1.)\n",
    "sample = (sample + 1.) / 2. * 255\n",
    "sample = sample.numpy().astype(np.uint8)\n",
    "sample = np.transpose(sample, (0, 2, 3, 1))\n",
    "print(sample.shape)\n",
    "a = Image.fromarray(sample[0])\n",
    "display(a)\n"
   ]
  },
  {
   "cell_type": "code",
   "execution_count": null,
   "metadata": {},
   "outputs": [],
   "source": []
  },
  {
   "cell_type": "code",
   "execution_count": null,
   "metadata": {},
   "outputs": [],
   "source": []
  }
 ],
 "metadata": {
  "kernelspec": {
   "display_name": "ldm",
   "language": "python",
   "name": "python3"
  },
  "language_info": {
   "codemirror_mode": {
    "name": "ipython",
    "version": 3
   },
   "file_extension": ".py",
   "mimetype": "text/x-python",
   "name": "python",
   "nbconvert_exporter": "python",
   "pygments_lexer": "ipython3",
   "version": "3.8.5"
  },
  "orig_nbformat": 4,
  "vscode": {
   "interpreter": {
    "hash": "b11eaf0e94fc111c724b4ee42f36a114f13a982891d5c8efe533c6716daa5c0a"
   }
  }
 },
 "nbformat": 4,
 "nbformat_minor": 2
}
